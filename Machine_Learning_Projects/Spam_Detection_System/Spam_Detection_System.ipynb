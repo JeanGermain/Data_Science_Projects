{
 "cells": [
  {
   "cell_type": "markdown",
   "id": "2a982075",
   "metadata": {},
   "source": [
    "## Spam Detection Using Multinomial Naive Bayes Classifier\n",
    "\n",
    "### Introduction:\n",
    "\n",
    "Detecting spam alerts in emails and messages is one of the main applications that every big tech company tries to improve for its customers.\n",
    "\n",
    "Apple’s official messaging app and Google’s Gmail are great examples of such applications where spam detection works well to protect users from spam alerts.\n",
    "\n",
    "Whenever you submit details about your email or contact number on any platform, it has become easy for those platforms to market their products by advertising them by sending emails or by sending messages directly to your contact number.\n",
    "This results in lots of spam alerts and notifications in your inbox. This is where the task of spam detection comes in.\n",
    "\n",
    "Spam detection means detecting spam messages or emails by understanding text content so that you can only receive notifications about messages or emails that are very important to you. \n",
    "If spam messages are found, they are automatically transferred to a spam folder and you are never notified of such alerts. \n",
    "This helps to improve the user experience, as many spam alerts can bother many users.\n",
    "\n",
    "The dataset I’m using can be downloaded from here:\n",
    "https://github.com/JeanGermain/Data_Science_Projects/blob/main/Machine_Learning_Projects/Spam_Detection_System/Spam_Detection_Data.csv\n",
    "\n",
    "Now let’s see how to train a machine learning model for detecting spam alerts using Python, pandas, numpy, sklearn and multinomial Naive Bayes classifier (MultinomialNB).\n"
   ]
  },
  {
   "cell_type": "code",
   "execution_count": 19,
   "id": "a39a9873",
   "metadata": {},
   "outputs": [
    {
     "data": {
      "text/html": [
       "<div>\n",
       "<style scoped>\n",
       "    .dataframe tbody tr th:only-of-type {\n",
       "        vertical-align: middle;\n",
       "    }\n",
       "\n",
       "    .dataframe tbody tr th {\n",
       "        vertical-align: top;\n",
       "    }\n",
       "\n",
       "    .dataframe thead th {\n",
       "        text-align: right;\n",
       "    }\n",
       "</style>\n",
       "<table border=\"1\" class=\"dataframe\">\n",
       "  <thead>\n",
       "    <tr style=\"text-align: right;\">\n",
       "      <th></th>\n",
       "      <th>class</th>\n",
       "      <th>message</th>\n",
       "      <th>Unnamed: 2</th>\n",
       "      <th>Unnamed: 3</th>\n",
       "      <th>Unnamed: 4</th>\n",
       "    </tr>\n",
       "  </thead>\n",
       "  <tbody>\n",
       "    <tr>\n",
       "      <th>0</th>\n",
       "      <td>ham,\"Go until jurong point, crazy.. Available ...</td>\n",
       "      <td>NaN</td>\n",
       "      <td>NaN</td>\n",
       "      <td>NaN</td>\n",
       "      <td>NaN</td>\n",
       "    </tr>\n",
       "    <tr>\n",
       "      <th>1</th>\n",
       "      <td>ham</td>\n",
       "      <td>Ok lar... Joking wif u oni...</td>\n",
       "      <td>NaN</td>\n",
       "      <td>NaN</td>\n",
       "      <td>NaN</td>\n",
       "    </tr>\n",
       "    <tr>\n",
       "      <th>2</th>\n",
       "      <td>spam</td>\n",
       "      <td>Free entry in 2 a wkly comp to win FA Cup fina...</td>\n",
       "      <td>NaN</td>\n",
       "      <td>NaN</td>\n",
       "      <td>NaN</td>\n",
       "    </tr>\n",
       "    <tr>\n",
       "      <th>3</th>\n",
       "      <td>ham</td>\n",
       "      <td>U dun say so early hor... U c already then say...</td>\n",
       "      <td>NaN</td>\n",
       "      <td>NaN</td>\n",
       "      <td>NaN</td>\n",
       "    </tr>\n",
       "    <tr>\n",
       "      <th>4</th>\n",
       "      <td>ham,\"Nah I don't think he goes to usf, he live...</td>\n",
       "      <td>NaN</td>\n",
       "      <td>NaN</td>\n",
       "      <td>NaN</td>\n",
       "      <td>NaN</td>\n",
       "    </tr>\n",
       "  </tbody>\n",
       "</table>\n",
       "</div>"
      ],
      "text/plain": [
       "                                               class  \\\n",
       "0  ham,\"Go until jurong point, crazy.. Available ...   \n",
       "1                                                ham   \n",
       "2                                               spam   \n",
       "3                                                ham   \n",
       "4  ham,\"Nah I don't think he goes to usf, he live...   \n",
       "\n",
       "                                             message  Unnamed: 2  Unnamed: 3  \\\n",
       "0                                                NaN         NaN         NaN   \n",
       "1                      Ok lar... Joking wif u oni...         NaN         NaN   \n",
       "2  Free entry in 2 a wkly comp to win FA Cup fina...         NaN         NaN   \n",
       "3  U dun say so early hor... U c already then say...         NaN         NaN   \n",
       "4                                                NaN         NaN         NaN   \n",
       "\n",
       "   Unnamed: 4  \n",
       "0         NaN  \n",
       "1         NaN  \n",
       "2         NaN  \n",
       "3         NaN  \n",
       "4         NaN  "
      ]
     },
     "execution_count": 19,
     "metadata": {},
     "output_type": "execute_result"
    }
   ],
   "source": [
    "# I’ll start by importing the necessary Python libraries and the dataset needed for this task:\n",
    "import pandas as pd\n",
    "import numpy as np\n",
    "from sklearn.feature_extraction.text import CountVectorizer\n",
    "from sklearn.model_selection import train_test_split\n",
    "from sklearn.naive_bayes import MultinomialNB\n",
    "data = pd.read_csv(\"Spam_Detection_Data.csv\", encoding= 'latin-1')\n",
    "data.head()"
   ]
  },
  {
   "cell_type": "markdown",
   "id": "a5d23afd",
   "metadata": {},
   "source": [
    "From this dataset, class and message are the only features we need to train a machine learning model for spam detection, so let’s select these two columns as the new dataset:"
   ]
  },
  {
   "cell_type": "code",
   "execution_count": 24,
   "id": "f788b217",
   "metadata": {},
   "outputs": [
    {
     "name": "stdout",
     "output_type": "stream",
     "text": [
      "     class                                            message\n",
      "0      ham                      Ok lar... Joking wif u oni...\n",
      "1     spam  Free entry in 2 a wkly comp to win FA Cup fina...\n",
      "2      ham  U dun say so early hor... U c already then say...\n",
      "3      ham  Even my brother is not like to speak with me. ...\n",
      "4      ham  As per your request 'Melle Melle (Oru Minnamin...\n",
      "...    ...                                                ...\n",
      "3950   ham  Why don't you wait 'til at least wednesday to ...\n",
      "3951   ham                                       Huh y lei...\n",
      "3952   ham              Will ?_ b going to esplanade fr home?\n",
      "3953   ham  The guy did some bitching but I acted like i'd...\n",
      "3954   ham                         Rofl. Its true to its name\n",
      "\n",
      "[3955 rows x 2 columns]\n"
     ]
    }
   ],
   "source": [
    "data = data[[\"class\", \"message\"]]\n",
    "data=data.dropna().reset_index(drop=True)  # Reset index after droping all rows with NaN values\n",
    "print(data)"
   ]
  },
  {
   "cell_type": "markdown",
   "id": "cd01d74e",
   "metadata": {},
   "source": [
    "Now let’s split this dataset into training and test sets and train the model to detect spam messages:"
   ]
  },
  {
   "cell_type": "code",
   "execution_count": 25,
   "id": "3f8dee2e",
   "metadata": {},
   "outputs": [
    {
     "data": {
      "text/plain": [
       "MultinomialNB()"
      ]
     },
     "execution_count": 25,
     "metadata": {},
     "output_type": "execute_result"
    }
   ],
   "source": [
    "x = np.array(data[\"message\"])\n",
    "y = np.array(data[\"class\"])\n",
    "cv = CountVectorizer() # transform a given text into a vector on the basis of the frequency (count) of each word that occurs in the entire text\n",
    "X = cv.fit_transform(x) # Fit the Data (Fit to data, then transform it.)\n",
    "X_train, X_test, y_train, y_test = train_test_split(X, y, test_size=0.33, random_state=42)\n",
    "\n",
    "clf = MultinomialNB()  # clf: classifier\n",
    "clf.fit(X_train,y_train)"
   ]
  },
  {
   "cell_type": "markdown",
   "id": "8e595535",
   "metadata": {},
   "source": [
    "Now let’s test this model by taking a user input as a message to detect whether it is spam or not:"
   ]
  },
  {
   "cell_type": "code",
   "execution_count": 26,
   "id": "a0e0ab36",
   "metadata": {
    "scrolled": true
   },
   "outputs": [
    {
     "name": "stdout",
     "output_type": "stream",
     "text": [
      "Enter a message:You won $40 cash price\n",
      "['spam']\n"
     ]
    }
   ],
   "source": [
    "sample = input('Enter a message:')\n",
    "data = cv.transform([sample]).toarray()\n",
    "print(clf.predict(data))"
   ]
  },
  {
   "cell_type": "markdown",
   "id": "a79b1dc8",
   "metadata": {},
   "source": [
    "### Summary:\n",
    "\n",
    "So this is how you can train a machine learning model for the task of detecting whether an email or a message is spam or not. A Spam detector detects spam messages or emails by understanding text content so that you can only receive notifications about messages or emails that are very important to you."
   ]
  }
 ],
 "metadata": {
  "kernelspec": {
   "display_name": "Python 3 (ipykernel)",
   "language": "python",
   "name": "python3"
  },
  "language_info": {
   "codemirror_mode": {
    "name": "ipython",
    "version": 3
   },
   "file_extension": ".py",
   "mimetype": "text/x-python",
   "name": "python",
   "nbconvert_exporter": "python",
   "pygments_lexer": "ipython3",
   "version": "3.9.12"
  }
 },
 "nbformat": 4,
 "nbformat_minor": 5
}
