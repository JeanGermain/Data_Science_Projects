{
 "cells": [
  {
   "cell_type": "markdown",
   "id": "ae71ac35",
   "metadata": {},
   "source": [
    "## Image Classification Model With Neural Networks\n",
    "\n",
    "### Introduction\n",
    "\n",
    "In machine learning, classification means categorizing the known classes, For example, categorizing the most profitable and non-interested customers from a dataset for advertising a particular product.\n",
    "\n",
    "Classification is the task of categorizing the known classes based on their features. In most classification problems, machine learning algorithms will do the job, but while classifying a large dataset of images, you will need to use a neural network.\n",
    "\n",
    "### Classification with Neural Networks \n",
    "\n",
    "A neural network is a computational structure used to train deep learning models that can easily outperform any classical machine learning algorithm. A neural network consists of three types of layers:\n",
    "\n",
    "1. one input layer that receives the data\n",
    "\n",
    "2. one or more hidden layers that perform all the calculations to learn from the features\n",
    "\n",
    "3. one output layer that provides the final output\n",
    "\n",
    "In this project, I will perform the task of image classification with neural network using Python, tensorflow, numpy, matplotlib, and keras.\n",
    "\n",
    "The dataset I’m using can be downloaded from here:\n",
    "https://www.kaggle.com/datasets/zalando-research/fashionmnist\n",
    "\n",
    "### About Dataset\n",
    "\n",
    "Fashion-MNIST is a dataset of Zalando's article images—consisting of a training set of 60,000 examples and a test set of 10,000 examples. Each example is a 28x28 grayscale image, associated with a label from 10 classes.\n",
    "\n",
    "Each image is 28 pixels in height and 28 pixels in width, for a total of 784 pixels in total. Each pixel has a single pixel-value associated with it, indicating the lightness or darkness of that pixel, with higher numbers meaning darker. \n",
    "This pixel-value is an integer between 0 and 255. The training and test data sets have 785 columns. The first column consists of the class labels (see above), and represents the article of clothing. The rest of the columns contain the pixel-values of the associated image."
   ]
  },
  {
   "cell_type": "code",
   "execution_count": 1,
   "id": "54713b95",
   "metadata": {},
   "outputs": [],
   "source": [
    "#pip install matplotlib  # After installing tensorflow and keras, I needed to install matplotlib"
   ]
  },
  {
   "cell_type": "code",
   "execution_count": 2,
   "id": "a58d174b",
   "metadata": {},
   "outputs": [],
   "source": [
    "# let's start by importing the necessary Python libraries and the dataset:\n",
    "import tensorflow as tf\n",
    "from tensorflow import keras  # Tutorial on how to install Tensorflow and Keras using Anaconda Navigator: https://www.youtube.com/watch?v=V9cDjjRXS08\n",
    "import numpy as np\n",
    "import matplotlib.pyplot as plt\n",
    "fashion = keras.datasets.fashion_mnist\n",
    "(xtrain, ytrain), (xtest, ytest) = fashion.load_data() # tf.keras.datasets.fashion_mnist.load_data() Loads the Fashion-MNIST dataset."
   ]
  },
  {
   "cell_type": "markdown",
   "id": "0cb09fb4",
   "metadata": {},
   "source": [
    "Before moving forward, let’s have a quick look at one of the samples of the images from the dataset:"
   ]
  },
  {
   "cell_type": "code",
   "execution_count": 3,
   "id": "036c3d02",
   "metadata": {},
   "outputs": [
    {
     "name": "stdout",
     "output_type": "stream",
     "text": [
      "Image Label : 5\n"
     ]
    },
    {
     "data": {
      "text/plain": [
       "<matplotlib.image.AxesImage at 0x1867bfd5d00>"
      ]
     },
     "execution_count": 3,
     "metadata": {},
     "output_type": "execute_result"
    },
    {
     "data": {
      "image/png": "[encoded data removed]",
      "text/plain": [
       "<Figure size 432x288 with 1 Axes>"
      ]
     },
     "metadata": {
      "needs_background": "light"
     },
     "output_type": "display_data"
    }
   ],
   "source": [
    "imgIndex = 9\n",
    "image = xtrain[imgIndex]\n",
    "print(\"Image Label :\",ytrain[imgIndex])\n",
    "plt.imshow(image)"
   ]
  },
  {
   "cell_type": "code",
   "execution_count": 4,
   "id": "51f5ba1f",
   "metadata": {},
   "outputs": [
    {
     "name": "stdout",
     "output_type": "stream",
     "text": [
      "(60000, 28, 28)\n",
      "(10000, 28, 28)\n"
     ]
    }
   ],
   "source": [
    "# Now let’s have a look at the shape of both the training and test data:\n",
    "print(xtrain.shape)\n",
    "print(xtest.shape)"
   ]
  },
  {
   "cell_type": "markdown",
   "id": "970e9c74",
   "metadata": {},
   "source": [
    "#### Returns\n",
    "\n",
    "Tuple of NumPy arrays: (x_train, y_train), (x_test, y_test).\n",
    "\n",
    "x_train: uint8 NumPy array of grayscale image data with shapes (60000, 28, 28), containing the training data.\n",
    "\n",
    "y_train: uint8 NumPy array of labels (integers in range 0-9) with shape (60000,) for the training data.\n",
    "\n",
    "x_test: uint8 NumPy array of grayscale image data with shapes (10000, 28, 28), containing the test data.\n",
    "\n",
    "y_test: uint8 NumPy array of labels (integers in range 0-9) with shape (10000,) for the test data.\n",
    "\n",
    "#### Example:\n",
    "\n",
    "(x_train, y_train), (x_test, y_test) = fashion_mnist.load_data()\n",
    "assert x_train.shape == (60000, 28, 28)\n",
    "assert x_test.shape == (10000, 28, 28)\n",
    "assert y_train.shape == (60000,)\n",
    "assert y_test.shape == (10000,)"
   ]
  },
  {
   "cell_type": "markdown",
   "id": "960ae1f0",
   "metadata": {},
   "source": [
    "### Building a Neural Network Architecture"
   ]
  },
  {
   "cell_type": "code",
   "execution_count": 5,
   "id": "a0f59017",
   "metadata": {},
   "outputs": [],
   "source": [
    "#pip install keras "
   ]
  },
  {
   "cell_type": "code",
   "execution_count": null,
   "id": "d40b0082",
   "metadata": {},
   "outputs": [],
   "source": [
    "# Now I will build a neural network architecture with two hidden layers:\n",
    "model = keras.models.Sequential([\n",
    "    keras.layers.Flatten(input_shape=[28, 28]),\n",
    "    keras.layers.Dense(300, activation=\"relu\"),\n",
    "    keras.layers.Dense(100, activation=\"relu\"),\n",
    "    keras.layers.Dense(10, activation=\"softmax\")\n",
    "])\n",
    "print(model.summary())"
   ]
  },
  {
   "cell_type": "markdown",
   "id": "ba5a6f6d",
   "metadata": {},
   "source": [
    "Before training our model, I will split the training data into training and validation sets:"
   ]
  },
  {
   "cell_type": "code",
   "execution_count": null,
   "id": "30cf8570",
   "metadata": {},
   "outputs": [],
   "source": [
    "xvalid, xtrain = xtrain[:5000]/255.0, xtrain[5000:]/255.0\n",
    "yvalid, ytrain = ytrain[:5000], ytrain[5000:]"
   ]
  },
  {
   "cell_type": "markdown",
   "id": "b6f632a2",
   "metadata": {},
   "source": [
    "### Training a Classification Model with Neural Networks"
   ]
  },
  {
   "cell_type": "code",
   "execution_count": null,
   "id": "261cc769",
   "metadata": {},
   "outputs": [],
   "source": [
    "# Now here’s how we can train a neural network for the task of image classification:\n",
    "model.compile(loss=\"sparse_categorical_crossentropy\",\n",
    "              optimizer=\"sgd\",\n",
    "              metrics=[\"accuracy\"])\n",
    "history = model.fit(xtrain, ytrain, epochs=30, \n",
    "                    validation_data=(xvalid, yvalid))"
   ]
  },
  {
   "cell_type": "code",
   "execution_count": null,
   "id": "1299e004",
   "metadata": {},
   "outputs": [],
   "source": [
    "# Now let’s have a look at the predictions:\n",
    "new = xtest[:5]\n",
    "predictions = model.predict(new)\n",
    "print(predictions)"
   ]
  },
  {
   "cell_type": "code",
   "execution_count": null,
   "id": "76edef49",
   "metadata": {},
   "outputs": [],
   "source": [
    "# Here is how we can look at the predicted classes:\n",
    "classes = np.argmax(predictions, axis=1)\n",
    "print(classes)"
   ]
  },
  {
   "cell_type": "markdown",
   "id": "9227f647",
   "metadata": {},
   "source": [
    "So this is how you can train a classification model with neural networks using Python."
   ]
  },
  {
   "cell_type": "markdown",
   "id": "12be92f7",
   "metadata": {},
   "source": [
    "### Summary\n",
    "\n",
    "Classification is the task of categorizing the known classes based on their features. In most classification problems, machine learning algorithms will do the job, but while classifying a large dataset of images, you will need to use a neural network."
   ]
  }
 ],
 "metadata": {
  "kernelspec": {
   "display_name": "Python 3 (ipykernel)",
   "language": "python",
   "name": "python3"
  },
  "language_info": {
   "codemirror_mode": {
    "name": "ipython",
    "version": 3
   },
   "file_extension": ".py",
   "mimetype": "text/x-python",
   "name": "python",
   "nbconvert_exporter": "python",
   "pygments_lexer": "ipython3",
   "version": "3.9.12"
  }
 },
 "nbformat": 4,
 "nbformat_minor": 5
}
